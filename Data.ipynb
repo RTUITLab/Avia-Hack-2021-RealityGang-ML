{
 "cells": [
  {
   "cell_type": "code",
   "execution_count": 12,
   "metadata": {},
   "outputs": [],
   "source": [
    "import os\n",
    "import pandas as pd\n",
    "import numpy as np\n",
    "import matplotlib.pyplot as plt\n",
    "import math\n",
    "from sklearn.model_selection import train_test_split, cross_val_score, GridSearchCV\n",
    "from sklearn.metrics import accuracy_score, precision_score, recall_score\n",
    "from sklearn.tree import DecisionTreeClassifier\n",
    "from sklearn.ensemble import GradientBoostingClassifier\n",
    "import tensorflow as tf\n",
    "from tensorflow import keras\n",
    "from joblib import dump, load\n",
    "from preprocessing import get_features, time_to_seconds\n",
    "\n",
    "\n",
    "%matplotlib inline"
   ]
  },
  {
   "cell_type": "code",
   "execution_count": 2,
   "metadata": {},
   "outputs": [],
   "source": [
    "with open('processed\\BadTracksHackaton1801.txt', 'rb') as f:\n",
    "    bad1801 = np.load(f)\n",
    "with open('processed\\GoodTracksHackaton1801.txt', 'rb') as f:\n",
    "    good1801 = np.load(f)\n",
    "all1801 = np.vstack((bad1801, good1801))\n",
    "all1801.shape\n",
    "labels1801 = np.hstack((np.ones(bad1801.shape[0]), np.zeros(good1801.shape[0])))"
   ]
  },
  {
   "cell_type": "code",
   "execution_count": 3,
   "metadata": {},
   "outputs": [],
   "source": [
    "with open('processed\\BadTracksHackaton2301.txt', 'rb') as f:\n",
    "    bad2301 = np.load(f)\n",
    "with open('processed\\GoodTracksHackaton2301.txt', 'rb') as f:\n",
    "    good2301 = np.load(f)\n",
    "all2301 = np.vstack((bad2301, good2301))\n",
    "all2301.shape\n",
    "labels2301 = np.hstack((np.ones(bad2301.shape[0]), np.zeros(good2301.shape[0])))"
   ]
  },
  {
   "cell_type": "code",
   "execution_count": 4,
   "metadata": {},
   "outputs": [],
   "source": [
    "with open('processed\\BadTracksHackaton2101.txt', 'rb') as f:\n",
    "    bad2101 = np.load(f)\n",
    "with open('processed\\GoodTracksHackaton2101.txt', 'rb') as f:\n",
    "    good2101 = np.load(f)\n",
    "all2101 = np.vstack((bad2101, good2101))\n",
    "all2101.shape\n",
    "labels2101 = np.hstack((np.ones(bad2101.shape[0]), np.zeros(good2101.shape[0])))"
   ]
  },
  {
   "cell_type": "code",
   "execution_count": 9,
   "metadata": {},
   "outputs": [],
   "source": [
    "all_data = np.vstack((all1801, all2101, all2301))\n",
    "all_labels = np.hstack((labels1801, labels2101, labels2301))\n",
    "all_bad = np.vstack((bad1801, bad2101, bad2301))\n",
    "all_bad_labels = np.ones(all_bad.shape[0])\n",
    "all_good = np.vstack((good1801, good2101, good2301))\n",
    "all_good_labels = np.zeros(all_good.shape[0])"
   ]
  },
  {
   "cell_type": "code",
   "execution_count": 7,
   "metadata": {},
   "outputs": [],
   "source": [
    "data = pd.read_csv(r'test\\test.txt', sep=' ', header=None, names=['time', 'id', 'latitude', 'longitude', 'elevation', 'code', 'name'])\n",
    "data['time'] = data['time'].apply(time_to_seconds)\n",
    "grouped = data.groupby('id')\n",
    "grouped_df = [i for i in grouped]\n",
    "\n",
    "test_features = get_features(grouped_df)"
   ]
  },
  {
   "cell_type": "code",
   "execution_count": 11,
   "metadata": {},
   "outputs": [
    {
     "data": {
      "text/plain": [
       "int"
      ]
     },
     "execution_count": 11,
     "metadata": {},
     "output_type": "execute_result"
    }
   ],
   "source": [
    "type(data['id'].unique().shape[0])"
   ]
  },
  {
   "cell_type": "code",
   "execution_count": 39,
   "metadata": {},
   "outputs": [],
   "source": [
    "X_train, X_test, y_train, y_test = train_test_split(all2101, labels2101, test_size=0.3, shuffle=True, stratify=labels2101)"
   ]
  },
  {
   "cell_type": "markdown",
   "metadata": {},
   "source": [
    "## Regular tree"
   ]
  },
  {
   "cell_type": "code",
   "execution_count": 7,
   "metadata": {},
   "outputs": [],
   "source": [
    "tree = DecisionTreeClassifier()\n",
    "tree = tree.fit(X_train, y_train)"
   ]
  },
  {
   "cell_type": "code",
   "execution_count": 8,
   "metadata": {},
   "outputs": [
    {
     "data": {
      "text/plain": [
       "0.8569512740277156"
      ]
     },
     "execution_count": 8,
     "metadata": {},
     "output_type": "execute_result"
    }
   ],
   "source": [
    "accuracy_score(y_test, tree.predict(X_test))"
   ]
  },
  {
   "cell_type": "markdown",
   "metadata": {},
   "source": [
    "## Boosted tree"
   ]
  },
  {
   "cell_type": "code",
   "execution_count": 9,
   "metadata": {},
   "outputs": [],
   "source": [
    "xgboost = GradientBoostingClassifier(n_estimators=200, learning_rate=0.1, max_depth=5)\n",
    "xgboost = xgboost.fit(X_train, y_train)"
   ]
  },
  {
   "cell_type": "code",
   "execution_count": 10,
   "metadata": {},
   "outputs": [
    {
     "data": {
      "text/plain": [
       "0.8877961555654895"
      ]
     },
     "execution_count": 10,
     "metadata": {},
     "output_type": "execute_result"
    }
   ],
   "source": [
    "accuracy_score(y_test, xgboost.predict(X_test))"
   ]
  },
  {
   "cell_type": "code",
   "execution_count": 6,
   "metadata": {},
   "outputs": [],
   "source": [
    "# parameters = {'learning_rate': np.linspace(0.05, 1, 20),\n",
    "#               'n_estimators': [190, 200],\n",
    "#               'subsample': np.linspace(0.1, 1., 10),\n",
    "#               'max_depth': [5]\n",
    "#              }\n",
    "# best_xgboost = GridSearchCV(GradientBoostingClassifier(), parameters, n_jobs=16, verbose=4)\n",
    "# best_xgboost.fit(X_train, y_train)\n",
    "best_xgboost = load('models/xgboost1.joblib')"
   ]
  },
  {
   "cell_type": "code",
   "execution_count": 8,
   "metadata": {},
   "outputs": [
    {
     "data": {
      "text/plain": [
       "{'learning_rate': 0.05, 'max_depth': 5, 'n_estimators': 190, 'subsample': 0.4}"
      ]
     },
     "execution_count": 8,
     "metadata": {},
     "output_type": "execute_result"
    }
   ],
   "source": [
    "best_xgboost.best_params_"
   ]
  },
  {
   "cell_type": "code",
   "execution_count": 9,
   "metadata": {},
   "outputs": [
    {
     "data": {
      "text/plain": [
       "array([1., 0., 1., ..., 0., 0., 0.])"
      ]
     },
     "execution_count": 9,
     "metadata": {},
     "output_type": "execute_result"
    }
   ],
   "source": [
    "best_xgboost.predict(all_data)"
   ]
  },
  {
   "cell_type": "code",
   "execution_count": 199,
   "metadata": {},
   "outputs": [
    {
     "data": {
      "text/plain": [
       "['models/xgboost1.joblib']"
      ]
     },
     "execution_count": 199,
     "metadata": {},
     "output_type": "execute_result"
    }
   ],
   "source": [
    "# dump(best_xgboost, 'models/xgboost1.joblib')"
   ]
  },
  {
   "cell_type": "code",
   "execution_count": 15,
   "metadata": {},
   "outputs": [
    {
     "data": {
      "text/plain": [
       "93.27"
      ]
     },
     "execution_count": 15,
     "metadata": {},
     "output_type": "execute_result"
    }
   ],
   "source": [
    "round(accuracy_score(all_labels, best_xgboost.predict(all_data)), 4) * 100"
   ]
  },
  {
   "cell_type": "code",
   "execution_count": 16,
   "metadata": {},
   "outputs": [
    {
     "data": {
      "text/plain": [
       "92.05"
      ]
     },
     "execution_count": 16,
     "metadata": {},
     "output_type": "execute_result"
    }
   ],
   "source": [
    "round(accuracy_score(all_bad_labels, best_xgboost.predict(all_bad)), 4) * 100"
   ]
  },
  {
   "cell_type": "code",
   "execution_count": 17,
   "metadata": {},
   "outputs": [
    {
     "data": {
      "text/plain": [
       "94.43"
      ]
     },
     "execution_count": 17,
     "metadata": {},
     "output_type": "execute_result"
    }
   ],
   "source": [
    "round(accuracy_score(all_good_labels, best_xgboost.predict(all_good)), 4) * 100"
   ]
  },
  {
   "cell_type": "code",
   "execution_count": 18,
   "metadata": {},
   "outputs": [
    {
     "data": {
      "text/plain": [
       "93.99"
      ]
     },
     "execution_count": 18,
     "metadata": {},
     "output_type": "execute_result"
    }
   ],
   "source": [
    "round(precision_score(all_labels, best_xgboost.predict(all_data)), 4) * 100"
   ]
  },
  {
   "cell_type": "code",
   "execution_count": 19,
   "metadata": {},
   "outputs": [
    {
     "data": {
      "text/plain": [
       "92.05"
      ]
     },
     "execution_count": 19,
     "metadata": {},
     "output_type": "execute_result"
    }
   ],
   "source": [
    "round(recall_score(all_labels, best_xgboost.predict(all_data)), 4) * 100"
   ]
  },
  {
   "cell_type": "markdown",
   "metadata": {},
   "source": [
    "## Neural network"
   ]
  },
  {
   "cell_type": "code",
   "execution_count": 171,
   "metadata": {},
   "outputs": [],
   "source": [
    "model = keras.Sequential([\n",
    "    keras.layers.InputLayer((7)),\n",
    "    keras.layers.Dense(10, activation='relu', kernel_regularizer=keras.regularizers.L2(0.1)),\n",
    "    keras.layers.GaussianDropout(0.15)\n",
    "    keras.layers.Dense(5, activation='relu'),\n",
    "#     keras.layers.PReLU(),\n",
    "    keras.layers.Dense(2)\n",
    "])\n",
    "model.compile(optimizer=keras.optimizers.Adam(learning_rate=0.001), loss=keras.losses.SparseCategoricalCrossentropy(from_logits=True), metrics=['accuracy'])\n"
   ]
  },
  {
   "cell_type": "code",
   "execution_count": 172,
   "metadata": {},
   "outputs": [
    {
     "name": "stdout",
     "output_type": "stream",
     "text": [
      "Model: \"sequential_13\"\n",
      "_________________________________________________________________\n",
      "Layer (type)                 Output Shape              Param #   \n",
      "=================================================================\n",
      "dense_31 (Dense)             (None, 10)                80        \n",
      "_________________________________________________________________\n",
      "dense_32 (Dense)             (None, 5)                 55        \n",
      "_________________________________________________________________\n",
      "dense_33 (Dense)             (None, 2)                 12        \n",
      "=================================================================\n",
      "Total params: 147\n",
      "Trainable params: 147\n",
      "Non-trainable params: 0\n",
      "_________________________________________________________________\n"
     ]
    }
   ],
   "source": [
    "model.summary()"
   ]
  },
  {
   "cell_type": "code",
   "execution_count": 173,
   "metadata": {},
   "outputs": [
    {
     "name": "stdout",
     "output_type": "stream",
     "text": [
      "Epoch 1/200\n",
      "18/18 - 0s - loss: 386.9106 - accuracy: 0.6263 - val_loss: 324.3986 - val_accuracy: 0.6424\n",
      "Epoch 2/200\n",
      "18/18 - 0s - loss: 296.2308 - accuracy: 0.6708 - val_loss: 244.4731 - val_accuracy: 0.6696\n",
      "Epoch 3/200\n",
      "18/18 - 0s - loss: 222.3931 - accuracy: 0.6888 - val_loss: 178.6224 - val_accuracy: 0.7076\n",
      "Epoch 4/200\n",
      "18/18 - 0s - loss: 157.6893 - accuracy: 0.7318 - val_loss: 113.3883 - val_accuracy: 0.7631\n",
      "Epoch 5/200\n",
      "18/18 - 0s - loss: 65.2263 - accuracy: 0.7410 - val_loss: 26.2807 - val_accuracy: 0.5306\n",
      "Epoch 6/200\n",
      "18/18 - 0s - loss: 32.3495 - accuracy: 0.6880 - val_loss: 36.6195 - val_accuracy: 0.7068\n",
      "Epoch 7/200\n",
      "18/18 - 0s - loss: 36.7954 - accuracy: 0.6926 - val_loss: 32.1293 - val_accuracy: 0.6817\n",
      "Epoch 8/200\n",
      "18/18 - 0s - loss: 28.6141 - accuracy: 0.6774 - val_loss: 21.4981 - val_accuracy: 0.6737\n",
      "Epoch 9/200\n",
      "18/18 - 0s - loss: 17.7006 - accuracy: 0.6437 - val_loss: 9.8223 - val_accuracy: 0.6285\n",
      "Epoch 10/200\n",
      "18/18 - 0s - loss: 6.3003 - accuracy: 0.5941 - val_loss: 0.9930 - val_accuracy: 0.6258\n",
      "Epoch 11/200\n",
      "18/18 - 0s - loss: 9.3769 - accuracy: 0.6780 - val_loss: 9.1738 - val_accuracy: 0.7313\n",
      "Epoch 12/200\n",
      "18/18 - 0s - loss: 25.4559 - accuracy: 0.7362 - val_loss: 29.0017 - val_accuracy: 0.7899\n",
      "Epoch 13/200\n",
      "18/18 - 0s - loss: 22.4915 - accuracy: 0.7959 - val_loss: 12.2543 - val_accuracy: 0.8073\n",
      "Epoch 14/200\n",
      "18/18 - 0s - loss: 8.0398 - accuracy: 0.7734 - val_loss: 12.7501 - val_accuracy: 0.8118\n",
      "Epoch 15/200\n",
      "18/18 - 0s - loss: 14.5093 - accuracy: 0.8172 - val_loss: 10.9347 - val_accuracy: 0.8042\n",
      "Epoch 16/200\n",
      "18/18 - 0s - loss: 5.8391 - accuracy: 0.7527 - val_loss: 7.6769 - val_accuracy: 0.7912\n",
      "Epoch 17/200\n",
      "18/18 - 0s - loss: 11.3011 - accuracy: 0.8062 - val_loss: 8.7480 - val_accuracy: 0.7921\n",
      "Epoch 18/200\n",
      "18/18 - 0s - loss: 12.6324 - accuracy: 0.7659 - val_loss: 32.4205 - val_accuracy: 0.8207\n",
      "Epoch 19/200\n",
      "18/18 - 0s - loss: 46.7818 - accuracy: 0.8174 - val_loss: 48.8457 - val_accuracy: 0.8154\n",
      "Epoch 20/200\n",
      "18/18 - 0s - loss: 46.1313 - accuracy: 0.8150 - val_loss: 38.1062 - val_accuracy: 0.8194\n",
      "Epoch 21/200\n",
      "18/18 - 0s - loss: 32.6037 - accuracy: 0.8183 - val_loss: 23.8903 - val_accuracy: 0.8096\n",
      "Epoch 22/200\n",
      "18/18 - 0s - loss: 17.5135 - accuracy: 0.8005 - val_loss: 9.4460 - val_accuracy: 0.7756\n",
      "Epoch 23/200\n",
      "18/18 - 0s - loss: 8.1686 - accuracy: 0.7415 - val_loss: 20.1871 - val_accuracy: 0.8069\n",
      "Epoch 24/200\n",
      "18/18 - 0s - loss: 30.6533 - accuracy: 0.8188 - val_loss: 31.0393 - val_accuracy: 0.8176\n",
      "Epoch 25/200\n",
      "18/18 - 0s - loss: 27.3425 - accuracy: 0.8157 - val_loss: 19.8522 - val_accuracy: 0.8042\n",
      "Epoch 26/200\n",
      "18/18 - 0s - loss: 14.1574 - accuracy: 0.7882 - val_loss: 5.9794 - val_accuracy: 0.7501\n",
      "Epoch 27/200\n",
      "18/18 - 0s - loss: 8.5781 - accuracy: 0.7419 - val_loss: 20.4631 - val_accuracy: 0.8042\n",
      "Epoch 28/200\n",
      "18/18 - 0s - loss: 22.6899 - accuracy: 0.8067 - val_loss: 19.6990 - val_accuracy: 0.8033\n",
      "Epoch 29/200\n",
      "18/18 - 0s - loss: 14.6898 - accuracy: 0.7915 - val_loss: 7.2017 - val_accuracy: 0.7591\n",
      "Epoch 30/200\n",
      "18/18 - 0s - loss: 3.7544 - accuracy: 0.7080 - val_loss: 4.0478 - val_accuracy: 0.7219\n",
      "Epoch 31/200\n",
      "18/18 - 0s - loss: 4.4715 - accuracy: 0.7179 - val_loss: 11.8243 - val_accuracy: 0.7810\n",
      "Epoch 32/200\n",
      "18/18 - 0s - loss: 15.8919 - accuracy: 0.7937 - val_loss: 14.2495 - val_accuracy: 0.7872\n",
      "Epoch 33/200\n",
      "18/18 - 0s - loss: 9.2240 - accuracy: 0.7628 - val_loss: 1.7788 - val_accuracy: 0.6831\n",
      "Epoch 34/200\n",
      "18/18 - 0s - loss: 2.1254 - accuracy: 0.6970 - val_loss: 0.9556 - val_accuracy: 0.6518\n",
      "Epoch 35/200\n",
      "18/18 - 0s - loss: 11.3624 - accuracy: 0.7635 - val_loss: 14.3453 - val_accuracy: 0.7890\n",
      "Epoch 36/200\n",
      "18/18 - 0s - loss: 10.8120 - accuracy: 0.7769 - val_loss: 4.3324 - val_accuracy: 0.7255\n",
      "Epoch 37/200\n",
      "18/18 - 0s - loss: 17.2568 - accuracy: 0.7575 - val_loss: 34.9209 - val_accuracy: 0.8140\n",
      "Epoch 38/200\n",
      "18/18 - 0s - loss: 38.9373 - accuracy: 0.8148 - val_loss: 35.7236 - val_accuracy: 0.8114\n",
      "Epoch 39/200\n",
      "18/18 - 0s - loss: 31.5862 - accuracy: 0.8089 - val_loss: 24.1502 - val_accuracy: 0.8033\n",
      "Epoch 40/200\n",
      "18/18 - 0s - loss: 18.2549 - accuracy: 0.7890 - val_loss: 10.1107 - val_accuracy: 0.7671\n",
      "Epoch 41/200\n",
      "18/18 - 0s - loss: 6.2368 - accuracy: 0.7227 - val_loss: 10.1682 - val_accuracy: 0.7684\n",
      "Epoch 42/200\n",
      "18/18 - 0s - loss: 14.9159 - accuracy: 0.7851 - val_loss: 13.8636 - val_accuracy: 0.7783\n",
      "Epoch 43/200\n",
      "18/18 - 0s - loss: 9.6322 - accuracy: 0.7584 - val_loss: 2.9231 - val_accuracy: 0.6929\n",
      "Epoch 44/200\n",
      "18/18 - 0s - loss: 11.3983 - accuracy: 0.7454 - val_loss: 18.3110 - val_accuracy: 0.7899\n",
      "Epoch 45/200\n",
      "18/18 - 0s - loss: 16.4988 - accuracy: 0.7875 - val_loss: 10.6968 - val_accuracy: 0.7689\n",
      "Epoch 46/200\n",
      "18/18 - 0s - loss: 5.4897 - accuracy: 0.7276 - val_loss: 1.3835 - val_accuracy: 0.6191\n",
      "Epoch 47/200\n",
      "18/18 - 0s - loss: 6.4275 - accuracy: 0.7408 - val_loss: 6.4179 - val_accuracy: 0.7412\n",
      "Epoch 48/200\n",
      "18/18 - 0s - loss: 4.9681 - accuracy: 0.7164 - val_loss: 10.7434 - val_accuracy: 0.7720\n",
      "Epoch 49/200\n",
      "18/18 - 0s - loss: 14.3551 - accuracy: 0.7882 - val_loss: 12.1629 - val_accuracy: 0.7774\n",
      "Epoch 50/200\n",
      "18/18 - 0s - loss: 7.2284 - accuracy: 0.7516 - val_loss: 1.2372 - val_accuracy: 0.6643\n",
      "Epoch 51/200\n",
      "18/18 - 0s - loss: 8.8669 - accuracy: 0.7545 - val_loss: 11.5286 - val_accuracy: 0.7756\n",
      "Epoch 52/200\n",
      "18/18 - 0s - loss: 8.0064 - accuracy: 0.7584 - val_loss: 2.1756 - val_accuracy: 0.6866\n",
      "Epoch 53/200\n",
      "18/18 - 0s - loss: 11.9039 - accuracy: 0.7573 - val_loss: 21.1309 - val_accuracy: 0.8033\n",
      "Epoch 54/200\n",
      "18/18 - 0s - loss: 20.0930 - accuracy: 0.7996 - val_loss: 14.6702 - val_accuracy: 0.7832\n",
      "Epoch 55/200\n",
      "18/18 - 0s - loss: 9.5304 - accuracy: 0.7646 - val_loss: 2.1687 - val_accuracy: 0.6862\n",
      "Epoch 56/200\n",
      "18/18 - 0s - loss: 9.9083 - accuracy: 0.7490 - val_loss: 15.4395 - val_accuracy: 0.7859\n",
      "Epoch 57/200\n",
      "18/18 - 0s - loss: 12.9977 - accuracy: 0.7855 - val_loss: 7.4228 - val_accuracy: 0.7550\n",
      "Epoch 58/200\n",
      "18/18 - 0s - loss: 5.2533 - accuracy: 0.7216 - val_loss: 8.8826 - val_accuracy: 0.7640\n",
      "Epoch 59/200\n",
      "18/18 - 0s - loss: 9.7872 - accuracy: 0.7749 - val_loss: 6.4676 - val_accuracy: 0.7461\n",
      "Epoch 60/200\n",
      "18/18 - 0s - loss: 3.9265 - accuracy: 0.7159 - val_loss: 5.3108 - val_accuracy: 0.7367\n",
      "Epoch 61/200\n",
      "18/18 - 0s - loss: 3.6962 - accuracy: 0.7146 - val_loss: 1.8902 - val_accuracy: 0.6151\n",
      "Epoch 62/200\n",
      "18/18 - 0s - loss: 12.2573 - accuracy: 0.7705 - val_loss: 15.2989 - val_accuracy: 0.7926\n",
      "Epoch 63/200\n",
      "18/18 - 0s - loss: 11.8869 - accuracy: 0.7833 - val_loss: 4.8926 - val_accuracy: 0.7318\n",
      "Epoch 64/200\n",
      "18/18 - 0s - loss: 6.7785 - accuracy: 0.7401 - val_loss: 15.8147 - val_accuracy: 0.7944\n",
      "Epoch 65/200\n",
      "18/18 - 0s - loss: 16.6669 - accuracy: 0.7989 - val_loss: 12.6294 - val_accuracy: 0.7841\n",
      "Epoch 66/200\n",
      "18/18 - 0s - loss: 7.7063 - accuracy: 0.7520 - val_loss: 1.3602 - val_accuracy: 0.6209\n",
      "Epoch 67/200\n",
      "18/18 - 0s - loss: 10.2653 - accuracy: 0.7529 - val_loss: 12.0641 - val_accuracy: 0.7845\n",
      "Epoch 68/200\n",
      "18/18 - 0s - loss: 8.3769 - accuracy: 0.7628 - val_loss: 1.4807 - val_accuracy: 0.6795\n",
      "Epoch 69/200\n",
      "18/18 - 0s - loss: 14.3840 - accuracy: 0.7752 - val_loss: 21.3899 - val_accuracy: 0.8096\n",
      "Epoch 70/200\n",
      "18/18 - 0s - loss: 19.5863 - accuracy: 0.8053 - val_loss: 13.7602 - val_accuracy: 0.7881\n",
      "Epoch 71/200\n",
      "18/18 - 0s - loss: 8.0937 - accuracy: 0.7639 - val_loss: 1.2055 - val_accuracy: 0.6670\n",
      "Epoch 72/200\n",
      "18/18 - 0s - loss: 1.7413 - accuracy: 0.6904 - val_loss: 1.8445 - val_accuracy: 0.6866\n",
      "Epoch 73/200\n",
      "18/18 - 0s - loss: 2.2437 - accuracy: 0.6961 - val_loss: 3.0105 - val_accuracy: 0.7072\n",
      "Epoch 74/200\n",
      "18/18 - 0s - loss: 4.0824 - accuracy: 0.7366 - val_loss: 1.4907 - val_accuracy: 0.6844\n",
      "Epoch 75/200\n",
      "18/18 - 0s - loss: 2.0373 - accuracy: 0.6908 - val_loss: 2.3746 - val_accuracy: 0.7014\n",
      "Epoch 76/200\n",
      "18/18 - 0s - loss: 11.3917 - accuracy: 0.7890 - val_loss: 12.2370 - val_accuracy: 0.7930\n",
      "Epoch 77/200\n",
      "18/18 - 0s - loss: 7.9068 - accuracy: 0.7769 - val_loss: 1.6795 - val_accuracy: 0.6893\n",
      "Epoch 78/200\n",
      "18/18 - 0s - loss: 13.0046 - accuracy: 0.7767 - val_loss: 22.4525 - val_accuracy: 0.8140\n",
      "Epoch 79/200\n",
      "18/18 - 0s - loss: 21.0991 - accuracy: 0.8150 - val_loss: 15.6405 - val_accuracy: 0.7988\n",
      "Epoch 80/200\n",
      "18/18 - 0s - loss: 10.0905 - accuracy: 0.7822 - val_loss: 2.6575 - val_accuracy: 0.7009\n",
      "Epoch 81/200\n",
      "18/18 - 0s - loss: 10.7970 - accuracy: 0.7545 - val_loss: 17.5273 - val_accuracy: 0.8046\n",
      "Epoch 82/200\n",
      "18/18 - 0s - loss: 15.9456 - accuracy: 0.8027 - val_loss: 10.2812 - val_accuracy: 0.7792\n",
      "Epoch 83/200\n",
      "18/18 - 0s - loss: 6.4270 - accuracy: 0.7393 - val_loss: 9.9160 - val_accuracy: 0.7774\n",
      "Epoch 84/200\n",
      "18/18 - 0s - loss: 22.5814 - accuracy: 0.8135 - val_loss: 24.9286 - val_accuracy: 0.8145\n",
      "Epoch 85/200\n",
      "18/18 - 0s - loss: 21.8535 - accuracy: 0.8115 - val_loss: 15.0564 - val_accuracy: 0.7926\n",
      "Epoch 86/200\n",
      "18/18 - 0s - loss: 9.5783 - accuracy: 0.7719 - val_loss: 2.1128 - val_accuracy: 0.6898\n",
      "Epoch 87/200\n",
      "18/18 - 0s - loss: 16.4126 - accuracy: 0.7756 - val_loss: 27.8371 - val_accuracy: 0.8181\n",
      "Epoch 88/200\n",
      "18/18 - 0s - loss: 27.8642 - accuracy: 0.8236 - val_loss: 22.8086 - val_accuracy: 0.8131\n",
      "Epoch 89/200\n",
      "18/18 - 0s - loss: 18.0614 - accuracy: 0.8044 - val_loss: 10.9873 - val_accuracy: 0.7778\n",
      "Epoch 90/200\n",
      "18/18 - 0s - loss: 6.0838 - accuracy: 0.7373 - val_loss: 4.0982 - val_accuracy: 0.7139\n",
      "Epoch 91/200\n",
      "18/18 - 0s - loss: 11.7176 - accuracy: 0.7835 - val_loss: 12.1130 - val_accuracy: 0.7827\n",
      "Epoch 92/200\n",
      "18/18 - 0s - loss: 8.2551 - accuracy: 0.7661 - val_loss: 2.3453 - val_accuracy: 0.6907\n",
      "Epoch 93/200\n",
      "18/18 - 0s - loss: 7.2437 - accuracy: 0.7523 - val_loss: 12.0574 - val_accuracy: 0.7850\n",
      "Epoch 94/200\n",
      "18/18 - 0s - loss: 9.5006 - accuracy: 0.7796 - val_loss: 4.4202 - val_accuracy: 0.7251\n",
      "Epoch 95/200\n",
      "18/18 - 0s - loss: 2.6829 - accuracy: 0.7012 - val_loss: 2.9049 - val_accuracy: 0.7023\n",
      "Epoch 96/200\n",
      "18/18 - 0s - loss: 9.0695 - accuracy: 0.7434 - val_loss: 23.6816 - val_accuracy: 0.8158\n",
      "Epoch 97/200\n",
      "18/18 - 0s - loss: 26.5657 - accuracy: 0.8223 - val_loss: 23.5919 - val_accuracy: 0.8149\n",
      "Epoch 98/200\n",
      "18/18 - 0s - loss: 19.2501 - accuracy: 0.8089 - val_loss: 12.1955 - val_accuracy: 0.7854\n",
      "Epoch 99/200\n",
      "18/18 - 0s - loss: 6.3791 - accuracy: 0.7547 - val_loss: 5.5184 - val_accuracy: 0.5910\n",
      "Epoch 100/200\n",
      "18/18 - 0s - loss: 4.4148 - accuracy: 0.7311 - val_loss: 3.3538 - val_accuracy: 0.7103\n",
      "Epoch 101/200\n",
      "18/18 - 0s - loss: 10.2685 - accuracy: 0.7571 - val_loss: 28.5587 - val_accuracy: 0.8221\n",
      "Epoch 102/200\n",
      "18/18 - 0s - loss: 33.1272 - accuracy: 0.8293 - val_loss: 30.1900 - val_accuracy: 0.8225\n",
      "Epoch 103/200\n",
      "18/18 - 0s - loss: 26.3996 - accuracy: 0.8232 - val_loss: 19.7752 - val_accuracy: 0.8078\n",
      "Epoch 104/200\n",
      "18/18 - 0s - loss: 14.3817 - accuracy: 0.7950 - val_loss: 7.2748 - val_accuracy: 0.7564\n",
      "Epoch 105/200\n",
      "18/18 - 0s - loss: 4.7736 - accuracy: 0.7133 - val_loss: 6.5550 - val_accuracy: 0.7501\n",
      "Epoch 106/200\n",
      "18/18 - 0s - loss: 6.0547 - accuracy: 0.7560 - val_loss: 2.6091 - val_accuracy: 0.6974\n",
      "Epoch 107/200\n",
      "18/18 - 0s - loss: 3.9270 - accuracy: 0.7172 - val_loss: 5.3385 - val_accuracy: 0.7407\n",
      "Epoch 108/200\n",
      "18/18 - 0s - loss: 3.5696 - accuracy: 0.7133 - val_loss: 4.6436 - val_accuracy: 0.7380\n",
      "Epoch 109/200\n",
      "18/18 - 0s - loss: 6.7675 - accuracy: 0.7732 - val_loss: 4.6871 - val_accuracy: 0.7421\n",
      "Epoch 110/200\n",
      "18/18 - 0s - loss: 4.2280 - accuracy: 0.7309 - val_loss: 8.3070 - val_accuracy: 0.7845\n",
      "Epoch 111/200\n",
      "18/18 - 0s - loss: 7.4997 - accuracy: 0.7796 - val_loss: 3.3146 - val_accuracy: 0.7219\n",
      "Epoch 112/200\n",
      "18/18 - 0s - loss: 10.7372 - accuracy: 0.7648 - val_loss: 24.9401 - val_accuracy: 0.8274\n",
      "Epoch 113/200\n",
      "18/18 - 0s - loss: 27.1064 - accuracy: 0.8322 - val_loss: 23.7860 - val_accuracy: 0.8221\n",
      "Epoch 114/200\n",
      "18/18 - 0s - loss: 19.6376 - accuracy: 0.8179 - val_loss: 12.6575 - val_accuracy: 0.8006\n",
      "Epoch 115/200\n",
      "18/18 - 0s - loss: 7.5603 - accuracy: 0.7650 - val_loss: 0.8563 - val_accuracy: 0.6585\n",
      "Epoch 116/200\n",
      "18/18 - 0s - loss: 9.8416 - accuracy: 0.7652 - val_loss: 12.5163 - val_accuracy: 0.8024\n",
      "Epoch 117/200\n",
      "18/18 - 0s - loss: 9.6433 - accuracy: 0.7912 - val_loss: 4.6931 - val_accuracy: 0.7434\n",
      "Epoch 118/200\n",
      "18/18 - 0s - loss: 10.6485 - accuracy: 0.7562 - val_loss: 27.8150 - val_accuracy: 0.8292\n",
      "Epoch 119/200\n",
      "18/18 - 0s - loss: 33.4891 - accuracy: 0.8357 - val_loss: 31.8005 - val_accuracy: 0.8328\n",
      "Epoch 120/200\n",
      "18/18 - 0s - loss: 28.5594 - accuracy: 0.8298 - val_loss: 21.8394 - val_accuracy: 0.8198\n",
      "Epoch 121/200\n",
      "18/18 - 0s - loss: 16.9891 - accuracy: 0.8086 - val_loss: 10.3046 - val_accuracy: 0.7854\n",
      "Epoch 122/200\n",
      "18/18 - 0s - loss: 6.3195 - accuracy: 0.7327 - val_loss: 4.2364 - val_accuracy: 0.7273\n",
      "Epoch 123/200\n",
      "18/18 - 0s - loss: 11.6874 - accuracy: 0.7959 - val_loss: 13.2641 - val_accuracy: 0.8038\n",
      "Epoch 124/200\n",
      "18/18 - 0s - loss: 10.1503 - accuracy: 0.7910 - val_loss: 5.2666 - val_accuracy: 0.7447\n",
      "Epoch 125/200\n",
      "18/18 - 0s - loss: 3.7395 - accuracy: 0.7225 - val_loss: 5.5771 - val_accuracy: 0.7541\n",
      "Epoch 126/200\n",
      "18/18 - 0s - loss: 4.3707 - accuracy: 0.7474 - val_loss: 0.9217 - val_accuracy: 0.6759\n",
      "Epoch 127/200\n",
      "18/18 - 0s - loss: 15.1526 - accuracy: 0.7930 - val_loss: 23.1025 - val_accuracy: 0.8252\n",
      "Epoch 128/200\n",
      "18/18 - 0s - loss: 21.8748 - accuracy: 0.8262 - val_loss: 16.9115 - val_accuracy: 0.8154\n",
      "Epoch 129/200\n",
      "18/18 - 0s - loss: 12.4763 - accuracy: 0.7985 - val_loss: 6.1165 - val_accuracy: 0.7586\n",
      "Epoch 130/200\n",
      "18/18 - 0s - loss: 6.0454 - accuracy: 0.7349 - val_loss: 14.3333 - val_accuracy: 0.8114\n",
      "Epoch 131/200\n",
      "18/18 - 0s - loss: 19.1623 - accuracy: 0.8177 - val_loss: 17.8989 - val_accuracy: 0.8198\n",
      "Epoch 132/200\n",
      "18/18 - 0s - loss: 14.4160 - accuracy: 0.8078 - val_loss: 8.1551 - val_accuracy: 0.7841\n",
      "Epoch 133/200\n",
      "18/18 - 0s - loss: 3.8672 - accuracy: 0.7318 - val_loss: 2.3207 - val_accuracy: 0.7076\n",
      "Epoch 134/200\n",
      "18/18 - 0s - loss: 3.4811 - accuracy: 0.7373 - val_loss: 1.3918 - val_accuracy: 0.6965\n",
      "Epoch 135/200\n",
      "18/18 - 0s - loss: 9.4788 - accuracy: 0.7712 - val_loss: 15.2624 - val_accuracy: 0.8158\n",
      "Epoch 136/200\n",
      "18/18 - 0s - loss: 13.8673 - accuracy: 0.8106 - val_loss: 8.9813 - val_accuracy: 0.7944\n",
      "Epoch 137/200\n",
      "18/18 - 0s - loss: 4.9106 - accuracy: 0.7408 - val_loss: 0.9809 - val_accuracy: 0.6799\n",
      "Epoch 138/200\n",
      "18/18 - 0s - loss: 2.7598 - accuracy: 0.7100 - val_loss: 11.2597 - val_accuracy: 0.8064\n",
      "Epoch 139/200\n",
      "18/18 - 0s - loss: 17.3393 - accuracy: 0.8218 - val_loss: 17.1174 - val_accuracy: 0.8212\n",
      "Epoch 140/200\n",
      "18/18 - 0s - loss: 13.8971 - accuracy: 0.8130 - val_loss: 8.4852 - val_accuracy: 0.7930\n",
      "Epoch 141/200\n",
      "18/18 - 0s - loss: 4.7521 - accuracy: 0.7384 - val_loss: 7.9082 - val_accuracy: 0.7908\n",
      "Epoch 142/200\n",
      "18/18 - 0s - loss: 25.4828 - accuracy: 0.8269 - val_loss: 30.8851 - val_accuracy: 0.8373\n",
      "Epoch 143/200\n",
      "18/18 - 0s - loss: 29.5665 - accuracy: 0.8333 - val_loss: 24.4098 - val_accuracy: 0.8261\n",
      "Epoch 144/200\n",
      "18/18 - 0s - loss: 20.2472 - accuracy: 0.8212 - val_loss: 13.6081 - val_accuracy: 0.8082\n",
      "Epoch 145/200\n",
      "18/18 - 0s - loss: 8.9939 - accuracy: 0.7800 - val_loss: 2.8464 - val_accuracy: 0.7090\n",
      "Epoch 146/200\n",
      "18/18 - 0s - loss: 8.0045 - accuracy: 0.7516 - val_loss: 14.3918 - val_accuracy: 0.8100\n",
      "Epoch 147/200\n",
      "18/18 - 0s - loss: 14.0249 - accuracy: 0.8084 - val_loss: 9.9445 - val_accuracy: 0.7935\n",
      "Epoch 148/200\n",
      "18/18 - 0s - loss: 5.9479 - accuracy: 0.7560 - val_loss: 1.0107 - val_accuracy: 0.6759\n",
      "Epoch 149/200\n",
      "18/18 - 0s - loss: 8.8037 - accuracy: 0.7655 - val_loss: 13.0730 - val_accuracy: 0.8073\n",
      "Epoch 150/200\n",
      "18/18 - 0s - loss: 10.9501 - accuracy: 0.7987 - val_loss: 6.4280 - val_accuracy: 0.7684\n",
      "Epoch 151/200\n",
      "18/18 - 0s - loss: 5.1841 - accuracy: 0.7406 - val_loss: 11.9958 - val_accuracy: 0.8055\n",
      "Epoch 152/200\n",
      "18/18 - 0s - loss: 17.1288 - accuracy: 0.8174 - val_loss: 16.6718 - val_accuracy: 0.8176\n",
      "Epoch 153/200\n",
      "18/18 - 0s - loss: 13.2956 - accuracy: 0.8078 - val_loss: 7.8568 - val_accuracy: 0.7845\n",
      "Epoch 154/200\n",
      "18/18 - 0s - loss: 5.5466 - accuracy: 0.7368 - val_loss: 11.4264 - val_accuracy: 0.8029\n",
      "Epoch 155/200\n",
      "18/18 - 0s - loss: 20.8202 - accuracy: 0.8258 - val_loss: 23.4907 - val_accuracy: 0.8248\n",
      "Epoch 156/200\n",
      "18/18 - 0s - loss: 21.6140 - accuracy: 0.8238 - val_loss: 16.4552 - val_accuracy: 0.8131\n",
      "Epoch 157/200\n",
      "18/18 - 0s - loss: 12.4015 - accuracy: 0.8011 - val_loss: 6.5041 - val_accuracy: 0.7617\n",
      "Epoch 158/200\n",
      "18/18 - 0s - loss: 4.0617 - accuracy: 0.7188 - val_loss: 5.4855 - val_accuracy: 0.7613\n",
      "Epoch 159/200\n",
      "18/18 - 0s - loss: 6.2449 - accuracy: 0.7767 - val_loss: 3.5856 - val_accuracy: 0.7309\n",
      "Epoch 160/200\n",
      "18/18 - 0s - loss: 12.1605 - accuracy: 0.7558 - val_loss: 34.9125 - val_accuracy: 0.8297\n",
      "Epoch 161/200\n",
      "18/18 - 0s - loss: 43.4369 - accuracy: 0.8326 - val_loss: 43.6113 - val_accuracy: 0.8333\n",
      "Epoch 162/200\n",
      "18/18 - 0s - loss: 42.0097 - accuracy: 0.8333 - val_loss: 36.1798 - val_accuracy: 0.8346\n",
      "Epoch 163/200\n",
      "18/18 - 0s - loss: 32.9867 - accuracy: 0.8335 - val_loss: 26.1608 - val_accuracy: 0.8234\n",
      "Epoch 164/200\n",
      "18/18 - 0s - loss: 22.7053 - accuracy: 0.8194 - val_loss: 16.5708 - val_accuracy: 0.8064\n",
      "Epoch 165/200\n",
      "18/18 - 0s - loss: 12.7843 - accuracy: 0.7930 - val_loss: 7.3643 - val_accuracy: 0.7528\n",
      "Epoch 166/200\n",
      "18/18 - 0s - loss: 4.0422 - accuracy: 0.7142 - val_loss: 1.9008 - val_accuracy: 0.6884\n",
      "Epoch 167/200\n",
      "18/18 - 0s - loss: 2.6153 - accuracy: 0.7122 - val_loss: 1.0763 - val_accuracy: 0.6688\n",
      "Epoch 168/200\n",
      "18/18 - 0s - loss: 1.5356 - accuracy: 0.6888 - val_loss: 1.0780 - val_accuracy: 0.6714\n",
      "Epoch 169/200\n",
      "18/18 - 0s - loss: 8.1818 - accuracy: 0.7593 - val_loss: 15.5212 - val_accuracy: 0.8131\n",
      "Epoch 170/200\n",
      "18/18 - 0s - loss: 15.2535 - accuracy: 0.8144 - val_loss: 11.7690 - val_accuracy: 0.8024\n",
      "Epoch 171/200\n",
      "18/18 - 0s - loss: 8.1257 - accuracy: 0.7815 - val_loss: 3.5761 - val_accuracy: 0.7193\n",
      "Epoch 172/200\n",
      "18/18 - 0s - loss: 1.4076 - accuracy: 0.6873 - val_loss: 0.8645 - val_accuracy: 0.6589\n",
      "Epoch 173/200\n",
      "18/18 - 0s - loss: 0.8159 - accuracy: 0.6767 - val_loss: 0.7846 - val_accuracy: 0.6625\n",
      "Epoch 174/200\n",
      "18/18 - 0s - loss: 0.7430 - accuracy: 0.6776 - val_loss: 0.7231 - val_accuracy: 0.6728\n",
      "Epoch 175/200\n",
      "18/18 - 0s - loss: 0.6805 - accuracy: 0.6855 - val_loss: 0.7190 - val_accuracy: 0.7023\n",
      "Epoch 176/200\n",
      "18/18 - 0s - loss: 0.6357 - accuracy: 0.6970 - val_loss: 0.5873 - val_accuracy: 0.7072\n",
      "Epoch 177/200\n",
      "18/18 - 0s - loss: 0.5535 - accuracy: 0.7205 - val_loss: 0.5106 - val_accuracy: 0.7380\n",
      "Epoch 178/200\n",
      "18/18 - 0s - loss: 0.5177 - accuracy: 0.7560 - val_loss: 1.8428 - val_accuracy: 0.7868\n",
      "Epoch 179/200\n",
      "18/18 - 0s - loss: 3.6122 - accuracy: 0.8073 - val_loss: 2.0421 - val_accuracy: 0.7810\n",
      "Epoch 180/200\n",
      "18/18 - 0s - loss: 6.6185 - accuracy: 0.7934 - val_loss: 11.7626 - val_accuracy: 0.8279\n",
      "Epoch 181/200\n",
      "18/18 - 0s - loss: 10.7534 - accuracy: 0.8278 - val_loss: 6.9596 - val_accuracy: 0.8212\n",
      "Epoch 182/200\n",
      "18/18 - 0s - loss: 3.9717 - accuracy: 0.7842 - val_loss: 6.0630 - val_accuracy: 0.8181\n",
      "Epoch 183/200\n",
      "18/18 - 0s - loss: 9.0833 - accuracy: 0.8269 - val_loss: 7.7187 - val_accuracy: 0.8221\n",
      "Epoch 184/200\n",
      "18/18 - 0s - loss: 4.4924 - accuracy: 0.7848 - val_loss: 4.5172 - val_accuracy: 0.7984\n",
      "Epoch 185/200\n",
      "18/18 - 0s - loss: 12.7650 - accuracy: 0.8304 - val_loss: 15.2042 - val_accuracy: 0.8297\n",
      "Epoch 186/200\n",
      "18/18 - 0s - loss: 13.0332 - accuracy: 0.8329 - val_loss: 8.4548 - val_accuracy: 0.8194\n",
      "Epoch 187/200\n",
      "18/18 - 0s - loss: 5.8102 - accuracy: 0.7752 - val_loss: 4.2748 - val_accuracy: 0.7845\n",
      "Epoch 188/200\n",
      "18/18 - 0s - loss: 26.5962 - accuracy: 0.8355 - val_loss: 34.7709 - val_accuracy: 0.8364\n",
      "Epoch 189/200\n",
      "18/18 - 0s - loss: 34.9850 - accuracy: 0.8408 - val_loss: 30.9488 - val_accuracy: 0.8373\n",
      "Epoch 190/200\n",
      "18/18 - 0s - loss: 27.6698 - accuracy: 0.8399 - val_loss: 21.7851 - val_accuracy: 0.8333\n",
      "Epoch 191/200\n",
      "18/18 - 0s - loss: 17.9901 - accuracy: 0.8318 - val_loss: 12.5763 - val_accuracy: 0.8198\n",
      "Epoch 192/200\n",
      "18/18 - 0s - loss: 8.5677 - accuracy: 0.7952 - val_loss: 3.4517 - val_accuracy: 0.7295\n",
      "Epoch 193/200\n",
      "18/18 - 0s - loss: 3.7528 - accuracy: 0.7316 - val_loss: 6.5274 - val_accuracy: 0.7827\n",
      "Epoch 194/200\n",
      "18/18 - 0s - loss: 5.6516 - accuracy: 0.7798 - val_loss: 2.6121 - val_accuracy: 0.7215\n",
      "Epoch 195/200\n",
      "18/18 - 0s - loss: 6.6637 - accuracy: 0.7527 - val_loss: 13.2642 - val_accuracy: 0.8266\n",
      "Epoch 196/200\n",
      "18/18 - 0s - loss: 13.9245 - accuracy: 0.8324 - val_loss: 11.2756 - val_accuracy: 0.8225\n",
      "Epoch 197/200\n",
      "18/18 - 0s - loss: 8.0426 - accuracy: 0.8064 - val_loss: 3.1822 - val_accuracy: 0.7407\n",
      "Epoch 198/200\n",
      "18/18 - 0s - loss: 3.4709 - accuracy: 0.7516 - val_loss: 6.2199 - val_accuracy: 0.7957\n",
      "Epoch 199/200\n",
      "18/18 - 0s - loss: 4.9688 - accuracy: 0.7910 - val_loss: 2.1311 - val_accuracy: 0.7309\n",
      "Epoch 200/200\n",
      "18/18 - 0s - loss: 6.3571 - accuracy: 0.7710 - val_loss: 12.0718 - val_accuracy: 0.8257\n"
     ]
    },
    {
     "data": {
      "text/plain": [
       "<tensorflow.python.keras.callbacks.History at 0x1b975215d00>"
      ]
     },
     "execution_count": 173,
     "metadata": {},
     "output_type": "execute_result"
    }
   ],
   "source": [
    "model.fit(X_train, y_train, epochs=200, verbose=2, batch_size=256, validation_data=(X_test, y_test))"
   ]
  },
  {
   "cell_type": "code",
   "execution_count": null,
   "metadata": {},
   "outputs": [],
   "source": []
  },
  {
   "cell_type": "code",
   "execution_count": null,
   "metadata": {},
   "outputs": [],
   "source": []
  }
 ],
 "metadata": {
  "kernelspec": {
   "display_name": "Python 3",
   "language": "python",
   "name": "python3"
  },
  "language_info": {
   "codemirror_mode": {
    "name": "ipython",
    "version": 3
   },
   "file_extension": ".py",
   "mimetype": "text/x-python",
   "name": "python",
   "nbconvert_exporter": "python",
   "pygments_lexer": "ipython3",
   "version": "3.8.8"
  }
 },
 "nbformat": 4,
 "nbformat_minor": 4
}
